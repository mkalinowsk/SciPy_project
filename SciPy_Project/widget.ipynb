{
 "cells": [
  {
   "cell_type": "code",
   "execution_count": 1,
   "id": "d098b67e-8e56-434b-a1e3-3df858233b91",
   "metadata": {},
   "outputs": [],
   "source": [
    "import pandas as pd\n",
    "import numpy as np\n",
    "import matplotlib.pyplot as plt\n",
    "import vega_datasets\n",
    "from ipywidgets import interact, interactive, fixed, interact_manual\n",
    "import ipywidgets as widgets\n",
    "from ipywidgets import Text, IntSlider, Dropdown"
   ]
  },
  {
   "cell_type": "code",
   "execution_count": 3,
   "id": "da702697-ccb7-4afc-a905-c1dccabc7c63",
   "metadata": {},
   "outputs": [],
   "source": [
    "df = pd.read_csv(\"/Users/marijkekalinowski/Desktop/SciPy/SciPy_Project/winemag_data_130k_v2.csv\")\n",
    "df_short = df[[\"country\", \"price\",\"variety\",\"points\",\"province\"]]\n",
    "df_short = df_short.dropna()"
   ]
  },
  {
   "cell_type": "code",
   "execution_count": 4,
   "id": "83f2be3d-0a65-47b7-be84-f68f88ea5565",
   "metadata": {},
   "outputs": [],
   "source": [
    "def to_list(df, category, min_size):\n",
    "    '''\n",
    "    Converts specific dataframe to a list, wich will be used in dropdown menu     \n",
    "    '''\n",
    "    series = df.groupby([category]).size()\n",
    "    df_size = series.to_frame()\n",
    "    df_minsize = df_size.drop(df_size[df_size.iloc[:,0] < min_size].index)\n",
    "    \n",
    "    df_minsize = df_minsize.reset_index()\n",
    "    df_minsize = df_minsize.drop(df_minsize.columns[1], axis = 1)\n",
    "    \n",
    "    my_list = df_minsize[category].tolist()\n",
    "    return my_list"
   ]
  },
  {
   "cell_type": "code",
   "execution_count": 5,
   "id": "1de4d69c-9277-45b4-b722-b16fff722ac7",
   "metadata": {},
   "outputs": [],
   "source": [
    "countries = to_list(df_short, \"country\", 10)\n",
    "varieties = to_list(df_short, \"variety\", 1000)\n",
    "provinces = to_list(df_short, \"province\", 750)"
   ]
  },
  {
   "cell_type": "code",
   "execution_count": 27,
   "id": "99349f0e",
   "metadata": {},
   "outputs": [],
   "source": [
    "def choose_data(df, category, choice):\n",
    "    '''\n",
    "    Customises data set to choosen category  \n",
    "    '''\n",
    "    df = df.loc[df[category] == choice]\n",
    "    return df"
   ]
  },
  {
   "cell_type": "code",
   "execution_count": 28,
   "id": "99da9c38-2bbd-43b0-9356-86bc44ddab53",
   "metadata": {},
   "outputs": [],
   "source": [
    "def count_words(df):\n",
    "    '''\n",
    "    Counts the appearance of characteristic words in the descriptions\n",
    "    '''\n",
    "    #this will suppress a SettingWithCopyWarning entirely. For the porpuse of our project we can ignore the warning\n",
    "    pd.options.mode.chained_assignment = None\n",
    "    df[\"text_new\"] = df.loc[:, \"description\"].str.lower().str.replace(r'[^\\w\\s]+','', regex=True)\n",
    "    df_counted_words = df.text_new.str.split(expand=True).stack().value_counts()\n",
    "    df_counted_flavs = df_counted_words.loc[[\"fruit\", \"acidity\", \"tannins\", \"cherry\", \"ripe\", \"spice\", \"rich\", \"fresh\", \n",
    "                                             \"berry\", \"plum\", \"soft\", \"apple\", \"blackberry\", \"sweet\", \"citrus\"]]\n",
    "    return df_counted_flavs"
   ]
  },
  {
   "cell_type": "code",
   "execution_count": 29,
   "id": "c10bf8d4-8901-4082-aef2-20742f6dc16e",
   "metadata": {},
   "outputs": [
    {
     "data": {
      "application/vnd.jupyter.widget-view+json": {
       "model_id": "eac3ff209fb54ebc96914d43f91562af",
       "version_major": 2,
       "version_minor": 0
      },
      "text/plain": [
       "interactive(children=(Dropdown(description='Country:', options=('Argentina', 'Australia', 'Austria', 'Brazil',…"
      ]
     },
     "metadata": {},
     "output_type": "display_data"
    }
   ],
   "source": [
    "def plot_word_freqs(df, category, choice):\n",
    "    '''\n",
    "    Plots the frequencies of the most used words for each country \n",
    "    '''\n",
    "    df_chosen = choose_data(df, category, choice)\n",
    "    df_freqs = count_words(df_chosen)\n",
    "    df_freqs.plot.bar(title='Wich is the most used word?', ylabel='Frequency')\n",
    "    plt.show()\n",
    "    \n",
    "#using interactive to make the plot modifiable in real time\n",
    "interactive(plot_word_freqs,\n",
    "            df=fixed(df),\n",
    "            category=fixed(\"country\"),\n",
    "            choice=widgets.Dropdown(options=countries, description='Country:', disabled=False))"
   ]
  },
  {
   "cell_type": "markdown",
   "id": "c896c0d9-68bf-4869-b038-04ae33b21ea1",
   "metadata": {},
   "source": [
    "With the plot we can compare which characteristic words are used to describe the wines in different countries. "
   ]
  },
  {
   "cell_type": "code",
   "execution_count": null,
   "id": "802bbbb3-3279-4bfe-aa06-bf2391b9bf3a",
   "metadata": {},
   "outputs": [],
   "source": []
  }
 ],
 "metadata": {
  "kernelspec": {
   "display_name": "sywi",
   "language": "python",
   "name": "sywi"
  },
  "language_info": {
   "codemirror_mode": {
    "name": "ipython",
    "version": 3
   },
   "file_extension": ".py",
   "mimetype": "text/x-python",
   "name": "python",
   "nbconvert_exporter": "python",
   "pygments_lexer": "ipython3",
   "version": "3.9.12"
  }
 },
 "nbformat": 4,
 "nbformat_minor": 5
}
